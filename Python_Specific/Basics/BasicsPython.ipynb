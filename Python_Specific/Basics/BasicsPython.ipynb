{
  "metadata": {
    "language_info": {
      "codemirror_mode": {
        "name": "python",
        "version": 3
      },
      "file_extension": ".py",
      "mimetype": "text/x-python",
      "name": "python",
      "nbconvert_exporter": "python",
      "pygments_lexer": "ipython3",
      "version": "3.8"
    },
    "kernelspec": {
      "name": "python",
      "display_name": "Pyolite",
      "language": "python"
    }
  },
  "nbformat_minor": 4,
  "nbformat": 4,
  "cells": [
    {
      "cell_type": "markdown",
      "source": "## Python Basics",
      "metadata": {}
    },
    {
      "cell_type": "code",
      "source": "[my_number for my_number in range(10)]",
      "metadata": {
        "trusted": true
      },
      "execution_count": 5,
      "outputs": [
        {
          "execution_count": 5,
          "output_type": "execute_result",
          "data": {
            "text/plain": "[0, 1, 2, 3, 4, 5, 6, 7, 8, 9]"
          },
          "metadata": {}
        }
      ]
    },
    {
      "cell_type": "code",
      "source": "[n for n in range(10) if n % 2 == 0]",
      "metadata": {
        "trusted": true
      },
      "execution_count": 6,
      "outputs": [
        {
          "execution_count": 6,
          "output_type": "execute_result",
          "data": {
            "text/plain": "[0, 2, 4, 6, 8]"
          },
          "metadata": {}
        }
      ]
    },
    {
      "cell_type": "code",
      "source": "names_list = [\"John\", \"Rolf\", \"Anne\"]\nlowercase_names = [name.lower() for name in names_list]\nprint(lowercase_names)",
      "metadata": {
        "trusted": true
      },
      "execution_count": 8,
      "outputs": [
        {
          "name": "stdout",
          "text": "['john', 'rolf', 'anne']\n",
          "output_type": "stream"
        }
      ]
    },
    {
      "cell_type": "markdown",
      "source": "### Dictionary",
      "metadata": {}
    },
    {
      "cell_type": "code",
      "source": "my_dict = {\n    'name': 'Jose',\n    'location': 'UK'\n}\nmy_dict",
      "metadata": {
        "trusted": true
      },
      "execution_count": 10,
      "outputs": [
        {
          "execution_count": 10,
          "output_type": "execute_result",
          "data": {
            "text/plain": "{'name': 'Jose', 'location': 'UK'}"
          },
          "metadata": {}
        }
      ]
    },
    {
      "cell_type": "code",
      "source": "sum([1, 2, 3, 4, 5])",
      "metadata": {
        "trusted": true
      },
      "execution_count": 13,
      "outputs": [
        {
          "execution_count": 13,
          "output_type": "execute_result",
          "data": {
            "text/plain": "15"
          },
          "metadata": {}
        }
      ]
    },
    {
      "cell_type": "markdown",
      "source": "## Class And Object",
      "metadata": {}
    },
    {
      "cell_type": "code",
      "source": "class Student:\n    def __init__(self):\n        self.name = \"John\"\n        self.school = \"Harvard\"\n        \nmy_student_variable = Student()\nprint(my_student_variable)\nprint(my_student_variable.name)\nprint(my_student_variable.school)",
      "metadata": {
        "trusted": true
      },
      "execution_count": 14,
      "outputs": [
        {
          "name": "stdout",
          "text": "<__main__.Student object at 0x2e0def0>\nJohn\nHarvard\n",
          "output_type": "stream"
        }
      ]
    },
    {
      "cell_type": "code",
      "source": "class Student:\n    def __init__(self, name, school):\n        self.name = name\n        self.school = school\n\nanother_student = Student(\"Rolf\", \"MIT\")\nprint(another_student)\nprint(another_student.name)\nprint(another_student.school)",
      "metadata": {
        "trusted": true
      },
      "execution_count": 17,
      "outputs": [
        {
          "name": "stdout",
          "text": "<__main__.Student object at 0x37fdfc8>\nRolf\nMIT\n",
          "output_type": "stream"
        }
      ]
    },
    {
      "cell_type": "code",
      "source": "class Student:\n    def __init__(self, name, school):\n        self.name = name\n        self.school = school\n        self.marks = []\n\nanna = Student(\"Anna\", \"Oxford\")\nprint(anna.marks)\nanna.marks.append(56)\nanna.marks.append(99)\nprint(anna.marks)",
      "metadata": {
        "trusted": true
      },
      "execution_count": 18,
      "outputs": [
        {
          "name": "stdout",
          "text": "[]\n[56, 99]\n",
          "output_type": "stream"
        }
      ]
    },
    {
      "cell_type": "code",
      "source": "class Student:\n    def __init__(self, name, school):\n        self.name = name\n        self.school = school\n        self.marks = []\n\n    def average(self):\n        return sum(self.marks) / len(self.marks)\n\n\nanna = Student(\"Anna\", \"Oxford\")\nprint(anna.marks)\nanna.marks.append(56)\nanna.marks.append(99)\nprint(anna.marks)\nprint(anna.average())",
      "metadata": {
        "trusted": true
      },
      "execution_count": 21,
      "outputs": [
        {
          "name": "stdout",
          "text": "[]\n[56, 99]\n77.5\n",
          "output_type": "stream"
        }
      ]
    },
    {
      "cell_type": "code",
      "source": "class Student:\n    def __init__(self, name, school):\n        self.name = name\n        self.school = school\n        self.marks = []\n\n    def average(self):\n        return sum(self.marks) / len(self.marks)\n\n    def go_to_school(self):\n        return \"I'm going to {}\".format(self.school)\n    \n    def friend(self, friend_name):\n        return Student(friend_name, self.school)\n\nanna = Student(\"Anna\", \"Oxford\")\nrolf = Student(\"Rolf\", \"Harvard\")\nprint(anna.name)\nprint(rolf.name)\n\nprint(anna.go_to_school())\nprint(rolf.go_to_school())",
      "metadata": {
        "trusted": true
      },
      "execution_count": 28,
      "outputs": [
        {
          "name": "stdout",
          "text": "Anna\nRolf\nI'm going to Oxford\nI'm going to Harvard\n",
          "output_type": "stream"
        }
      ]
    },
    {
      "cell_type": "code",
      "source": "class Student:\n    def __init__(self, name, school):\n        self.name = name\n        self.school = school\n        self.marks = []\n\n    def average(self):\n        return sum(marks) / len(marks)\n\n    @classmethod\n    def friend(cls, origin, friend_name, *args):\n        return cls(friend_name, origin.school, *args)\n\nclass WorkingStudent(Student):\n    def __init__(self, name, school, salary):\n        super().__init__(name, school)\n        self.salary = salary\n\nrolf = WorkingStudent(\"Rolf\", \"Harvard\", 20.00)\nsue = WorkingStudent.friend(rolf, \"Sue\", 15.00)\nprint(sue.salary)  # This works!",
      "metadata": {
        "trusted": true
      },
      "execution_count": 31,
      "outputs": [
        {
          "name": "stdout",
          "text": "15.0\n",
          "output_type": "stream"
        }
      ]
    },
    {
      "cell_type": "markdown",
      "source": "### Args and Kwargs",
      "metadata": {}
    },
    {
      "cell_type": "code",
      "source": "def what_are_args(*args):\n    print(args)\n\nwhat_are_args(12, 35, 64, 'hello')",
      "metadata": {
        "trusted": true
      },
      "execution_count": 32,
      "outputs": [
        {
          "name": "stdout",
          "text": "(12, 35, 64, 'hello')\n",
          "output_type": "stream"
        }
      ]
    },
    {
      "cell_type": "code",
      "source": "def adding_more_simplified(*args):\n    return sum(args)  # args is a tuple of arguments passed\n\nadding_more_simplified(13, 45, 66, 3, 4)",
      "metadata": {
        "trusted": true
      },
      "execution_count": 34,
      "outputs": [
        {
          "execution_count": 34,
          "output_type": "execute_result",
          "data": {
            "text/plain": "131"
          },
          "metadata": {}
        }
      ]
    },
    {
      "cell_type": "code",
      "source": "def what_are_kwargs(*args, **kwargs):\n    print(args)\n    print(kwargs)\n\nwhat_are_kwargs(name='Jose', location='UK')\nwhat_are_kwargs(12, 35, 66, name='Jose', location='UK')",
      "metadata": {
        "trusted": true
      },
      "execution_count": 35,
      "outputs": [
        {
          "name": "stdout",
          "text": "()\n{'name': 'Jose', 'location': 'UK'}\n(12, 35, 66)\n{'name': 'Jose', 'location': 'UK'}\n",
          "output_type": "stream"
        }
      ]
    },
    {
      "cell_type": "code",
      "source": "# args are a tuple\n# kwargs is a dictionary\n# This will come in handy!",
      "metadata": {
        "trusted": true
      },
      "execution_count": 36,
      "outputs": []
    },
    {
      "cell_type": "code",
      "source": "def methodception(another):\n    return another()\n\nmethodception(lambda: 35 + 77)",
      "metadata": {
        "trusted": true
      },
      "execution_count": 38,
      "outputs": [
        {
          "execution_count": 38,
          "output_type": "execute_result",
          "data": {
            "text/plain": "112"
          },
          "metadata": {}
        }
      ]
    },
    {
      "cell_type": "code",
      "source": "my_list = [13, 56, 77, 484]\nlist(filter(lambda x: x != 13, my_list))  # A lambda function is just a short, one-line function that has no name.",
      "metadata": {
        "trusted": true
      },
      "execution_count": 39,
      "outputs": [
        {
          "execution_count": 39,
          "output_type": "execute_result",
          "data": {
            "text/plain": "[56, 77, 484]"
          },
          "metadata": {}
        }
      ]
    },
    {
      "cell_type": "markdown",
      "source": "## Decorators",
      "metadata": {}
    },
    {
      "cell_type": "code",
      "source": "# A decorator is just a function that gets called before another function\n\nimport functools  # function tools\n\ndef my_decorator(f):\n    @functools.wraps(f)\n    def function_that_runs_f():\n        print(\"Hello!\")\n        f()\n        print(\"After!\")\n    return function_that_runs_f\n\n@my_decorator\ndef my_function():\n    print(\"I'm in the function.\")\n\nmy_function()",
      "metadata": {
        "trusted": true
      },
      "execution_count": 41,
      "outputs": [
        {
          "name": "stdout",
          "text": "Hello!\nI'm in the function.\nAfter!\n",
          "output_type": "stream"
        }
      ]
    },
    {
      "cell_type": "code",
      "source": "def my_decorator(f):\n    @functools.wraps(f)\n    def function_that_runs_f(*args, **kwargs):\n        print(\"Hello!\")\n        f(*args, **kwargs)\n        print(\"After!\")\n    return function_that_runs_f\n\n@my_decorator\ndef my_function(arg1, arg2):\n    print(arg1 + arg2)\n\nmy_function(56, 89)",
      "metadata": {
        "trusted": true
      },
      "execution_count": 42,
      "outputs": [
        {
          "name": "stdout",
          "text": "Hello!\n145\nAfter!\n",
          "output_type": "stream"
        }
      ]
    },
    {
      "cell_type": "code",
      "source": "def decorator_arguments(number):\n    def my_decorator(f):\n        @functools.wraps(f)\n        def function_that_runs_f(*args, **kwargs):\n            print(\"Hello!\")\n            if number == 56:\n                print(\"Not running!\")\n            else:\n                f(*args, **kwargs)\n            print(\"After\")\n        return function_that_runs_f\n    return my_decorator\n\n@decorator_arguments(56)\ndef my_function():\n    print(\"Hello!\")\n\nmy_function()",
      "metadata": {
        "trusted": true
      },
      "execution_count": 43,
      "outputs": [
        {
          "name": "stdout",
          "text": "Hello!\nNot running!\nAfter\n",
          "output_type": "stream"
        }
      ]
    },
    {
      "cell_type": "code",
      "source": "",
      "metadata": {},
      "execution_count": null,
      "outputs": []
    }
  ]
}